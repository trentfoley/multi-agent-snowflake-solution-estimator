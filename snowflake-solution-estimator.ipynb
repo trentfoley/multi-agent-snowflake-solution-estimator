{
 "cells": [
  {
   "cell_type": "code",
   "execution_count": 19,
   "metadata": {},
   "outputs": [],
   "source": [
    "# %pip install crewai crewai-tools langchain_community"
   ]
  },
  {
   "cell_type": "code",
   "execution_count": 20,
   "metadata": {},
   "outputs": [],
   "source": [
    "# Warning control\n",
    "import warnings\n",
    "warnings.filterwarnings('ignore')"
   ]
  },
  {
   "cell_type": "code",
   "execution_count": 21,
   "metadata": {},
   "outputs": [],
   "source": [
    "from crewai import LLM"
   ]
  },
  {
   "cell_type": "code",
   "execution_count": 22,
   "metadata": {},
   "outputs": [],
   "source": [
    "llm = LLM(\n",
    "    model=\"gemini/gemini-2.5-flash-preview-05-20\",\n",
    "    stream=False,  # Enable streaming\n",
    "    temperature=0.5,\n",
    ")"
   ]
  },
  {
   "cell_type": "code",
   "execution_count": 23,
   "metadata": {},
   "outputs": [],
   "source": [
    "from crewai import Agent, Task, Crew\n",
    "# from crewai_tools import MCPServerAdapter"
   ]
  },
  {
   "cell_type": "markdown",
   "metadata": {},
   "source": [
    "## Creating Agents\n",
    "\n",
    "- Define your Agents, and provide them a `role`, `goal` and `backstory`.\n",
    "- It has been seen that LLMs perform better when they are role playing."
   ]
  },
  {
   "cell_type": "markdown",
   "metadata": {},
   "source": [
    "### Agent: Snowflake Cost Management Analyst Expert"
   ]
  },
  {
   "cell_type": "code",
   "execution_count": 24,
   "metadata": {},
   "outputs": [],
   "source": [
    "analyst = Agent(\n",
    "    role=\"Snowflake Cost Management Analyst Expert\",\n",
    "    goal=\"Provide factually accurate estimates on Snowflake credit consumption for and implmentation of {topic}\",\n",
    "    backstory=\"You are consulted for your expertise on Snowflake consumption forecasting. Estimate consumption for bringing on a workload for {topic}.\"              \n",
    "              \"Use Snowflake standard pay as you go pricing to estimate the cost of the workload.\",\n",
    "    allow_delegation=False,\n",
    "    llm=llm\n",
    ")"
   ]
  },
  {
   "cell_type": "markdown",
   "metadata": {},
   "source": [
    "### Agent: Snowflake Architect"
   ]
  },
  {
   "cell_type": "code",
   "execution_count": 25,
   "metadata": {},
   "outputs": [],
   "source": [
    "architect = Agent(\n",
    "    role=\"Snowflake Specialized Data Architect\",\n",
    "    goal=\"Answer questions about what components and features of Snowflake are needed to architect a solution for: {topic}\",\n",
    "    backstory=\"You are a Snowflake Specialized Data Architect. You are tasked with answering questions about what components\"\n",
    "              \"and features of Snowflake are needed to architect a solution for: {topic}\",\n",
    "    allow_delegation=False,\n",
    "    llm=llm,\n",
    ")"
   ]
  },
  {
   "cell_type": "markdown",
   "metadata": {},
   "source": [
    "### Task: Solution Architecture"
   ]
  },
  {
   "cell_type": "code",
   "execution_count": 27,
   "metadata": {},
   "outputs": [],
   "source": [
    "design = Task(\n",
    "    description=(\n",
    "        \"1. Prioritize the latest architecture designs for {topic}.\\n\"\n",
    "        \"2. Assume middle of the road when uncertainty around size and scale of data and processing needs.\\n\"\n",
    "        \"3. Develop a detailed list of components in particular number of warehouses, warehouse size, and task schedules.\"\n",
    "    ),\n",
    "    expected_output=\"A comprehensive solution architecture with listed Snowflake components\",\n",
    "    agent=architect,\n",
    ")"
   ]
  },
  {
   "cell_type": "markdown",
   "metadata": {},
   "source": [
    "### Task: Estimate Cost"
   ]
  },
  {
   "cell_type": "code",
   "execution_count": 28,
   "metadata": {},
   "outputs": [],
   "source": [
    "estimate = Task(\n",
    "    description=(\n",
    "        \"1. Use the solution architecture to estimate the total monthly consumption cost of running the solution on Snowflake\"\n",
    "        \"2. Breakout the cost by Snowflake component, suchas warehouse compute, storage, AI services, and other services\"\n",
    "    ),\n",
    "    expected_output=\"A report in markdown format\",\n",
    "    agent=analyst,\n",
    ")"
   ]
  },
  {
   "cell_type": "markdown",
   "metadata": {},
   "source": [
    "## Creating the Crew\n",
    "\n",
    "- Create your crew of Agents\n",
    "- Pass the tasks to be performed by those agents.\n",
    "    - **Note**: *For this simple example*, the tasks will be performed sequentially (i.e they are dependent on each other), so the _order_ of the task in the list _matters_.\n",
    "- `verbose=True` allows you to see all the logs of the execution."
   ]
  },
  {
   "cell_type": "code",
   "execution_count": 30,
   "metadata": {},
   "outputs": [],
   "source": [
    "crew = Crew(\n",
    "    agents=[architect, analyst],\n",
    "    tasks=[design, estimate],\n",
    ")"
   ]
  },
  {
   "cell_type": "markdown",
   "metadata": {},
   "source": [
    "## Running the Crew"
   ]
  },
  {
   "cell_type": "code",
   "execution_count": 31,
   "metadata": {},
   "outputs": [],
   "source": [
    "result = crew.kickoff(inputs={\"topic\": \"Fraud & AML Solution\"})"
   ]
  },
  {
   "cell_type": "markdown",
   "metadata": {},
   "source": [
    "- Display the results of your execution as markdown in the notebook."
   ]
  },
  {
   "cell_type": "code",
   "execution_count": 32,
   "metadata": {},
   "outputs": [
    {
     "data": {
      "text/markdown": [
       "## Snowflake Consumption Forecast: Fraud & AML Solution\n",
       "\n",
       "This report provides an estimated monthly consumption cost for running the proposed Fraud & AML solution on Snowflake, based on the provided architecture and \"middle-of-the-road\" scale assumptions. The estimates use Snowflake's standard pay-as-you-go pricing.\n",
       "\n",
       "**Pricing Assumptions (Standard Edition, On-Demand):**\n",
       "\n",
       "*   **Compute (Credits):** $2.50 per credit\n",
       "*   **Storage:** $45.00 per TB/month (for active storage, including Time Travel and Fail-safe overhead)\n",
       "*   **Snowpipe:** $0.06 per GB ingested\n",
       "*   **Data Transfer (Egress):** Estimated as a small fixed cost, as it's typically a minor component unless large volumes are consistently egressed.\n",
       "\n",
       "---\n",
       "\n",
       "### **1. Total Monthly Consumption Cost**\n",
       "\n",
       "Based on the detailed breakdown below, the estimated total monthly consumption cost for the Fraud & AML solution on Snowflake is:\n",
       "\n",
       "**Estimated Total Monthly Cost: ~$134,600 - $135,000**\n",
       "\n",
       "---\n",
       "\n",
       "### **2. Cost Breakdown by Snowflake Component**\n",
       "\n",
       "#### **A. Warehouse Compute**\n",
       "\n",
       "This section details the estimated credit consumption and cost for each Virtual Warehouse, factoring in their size, estimated active hours, and multi-cluster configurations.\n",
       "\n",
       "| Warehouse Name              | Size    | Credits/Hour | Estimated Average Clusters | Estimated Active Hours/Day | Estimated Monthly Credits | Estimated Monthly Cost |\n",
       "| :-------------------------- | :------ | :----------- | :------------------------- | :------------------------- | :------------------------ | :--------------------- |\n",
       "| `INGESTION_WH`              | X-SMALL | 1            | 1                          | 2                          | 60                        | $150.00                |\n",
       "| `SILVER_TRANSFORM_WH`       | MEDIUM  | 4            | 1.5 (avg of 1-3)           | 24                         | 4,320                     | $10,800.00             |\n",
       "| `FRAUD_DETECTION_API_WH`    | LARGE   | 8            | 3 (avg of 1-5, up to 10)   | 24                         | 17,280                    | $43,200.00             |\n",
       "| `AML_ANALYTICS_WH`          | MEDIUM  | 4            | 1.5 (avg of 1-5)           | 14                         | 2,520                     | $6,300.00              |\n",
       "| `DATA_SCIENCE_WH`           | MEDIUM  | 4            | 1 (avg of 1-2)             | 8                          | 960                       | $2,400.00              |\n",
       "| `ML_TRAINING_WH`            | LARGE   | 8            | 1                          | 8 (4 hrs, 2x/week)         | 274 (approx.)             | $685.00                |\n",
       "| `REPORTING_WH`              | SMALL   | 2            | 1                          | 4                          | 240                       | $600.00                |\n",
       "| `REVERSE_ETL_WH`            | X-SMALL | 1            | 1                          | 12                         | 360                       | $900.00                |\n",
       "| **Subtotal Warehouse Compute** |         |              |                            |                            | **26,014**                | **$65,035.00**         |\n",
       "\n",
       "*Note: Multi-cluster warehouse estimates are based on an average number of clusters active during peak and off-peak times. `ML_TRAINING_WH` usage is based on weekly/bi-weekly runs.*\n",
       "\n",
       "#### **B. Storage**\n",
       "\n",
       "This section estimates the cost for data storage, including active data, Time Travel, and Fail-safe.\n",
       "\n",
       "*   **Estimated Active Data Volume:** 1.25 PB (1250 TB) - *Mid-point of 500 TB - 2 PB range.*\n",
       "*   **Time Travel & Fail-safe Overhead:** +15% (estimated, can vary based on retention settings)\n",
       "*   **Total Estimated Stored Data:** 1250 TB * 1.15 = 1437.5 TB\n",
       "*   **Estimated Monthly Storage Cost:** 1437.5 TB * $45.00/TB = **$64,687.50**\n",
       "\n",
       "#### **C. Other Services**\n",
       "\n",
       "This category includes Snowpipe, Materialized View/Search Optimization maintenance, and Data Transfer.\n",
       "\n",
       "*   **Snowpipe (Serverless Ingestion):**\n",
       "    *   Daily Ingestion: 30 million records/day (approx. 30 GB/day)\n",
       "    *   Monthly Ingestion: 30 GB/day * 30 days = 900 GB/month\n",
       "    *   Estimated File Count: ~9,000 files/month (assuming 100MB files)\n",
       "    *   Cost: (900 GB * $0.06/GB) + (9,000 files / 1000 * $0.0007) = $54.00 + $0.0063 = **$54.01/month**\n",
       "\n",
       "*   **Materialized Views & Search Optimization (Maintenance):**\n",
       "    *   These serverless services consume credits for background maintenance.\n",
       "    *   Estimated Credits: 900 credits/month (approx. 30 credits/day)\n",
       "    *   Estimated Monthly Cost: 900 credits * $2.50/credit = **$2,250.00/month**\n",
       "\n",
       "*   **Data Transfer (Egress):**\n",
       "    *   Estimated Monthly Cost: **$200.00/month** (buffer for data egress to external systems like fraud case management, BI tools, etc.)\n",
       "\n",
       "---\n",
       "\n",
       "### **Summary of Monthly Costs**\n",
       "\n",
       "| Component                 | Estimated Monthly Cost |\n",
       "| :------------------------ | :--------------------- |\n",
       "| Warehouse Compute         | $65,035.00             |\n",
       "| Storage                   | $64,687.50             |\n",
       "| Snowpipe                  | $54.01                 |\n",
       "| MV/Search Optimization    | $2,250.00              |\n",
       "| Data Transfer (Egress)    | $200.00                |\n",
       "| **Total Estimated Monthly Cost** | **$132,226.51**        |\n",
       "\n",
       "---\n",
       "\n",
       "**Disclaimer:** These are estimates based on the provided architecture and assumed usage patterns. Actual costs may vary depending on:\n",
       "*   Exact data volumes and growth rates.\n",
       "*   Actual query patterns, concurrency, and complexity.\n",
       "*   Efficiency of SQL/Snowpark code.\n",
       "*   Warehouse auto-suspend and auto-resume effectiveness.\n",
       "*   Specific Snowflake edition, region, and contractual pricing.\n",
       "*   Future changes in Snowflake pricing.\n",
       "*   The actual number of clusters running for multi-cluster warehouses.\n",
       "\n",
       "It is recommended to monitor Snowflake usage closely using Account Usage views and Resource Monitors once the solution is operational to fine-tune resource allocation and optimize costs."
      ],
      "text/plain": [
       "<IPython.core.display.Markdown object>"
      ]
     },
     "execution_count": 32,
     "metadata": {},
     "output_type": "execute_result"
    }
   ],
   "source": [
    "from IPython.display import Markdown\n",
    "Markdown(result.raw)"
   ]
  }
 ],
 "metadata": {
  "kernelspec": {
   "display_name": "Python 3",
   "language": "python",
   "name": "python3"
  },
  "language_info": {
   "codemirror_mode": {
    "name": "ipython",
    "version": 3
   },
   "file_extension": ".py",
   "mimetype": "text/x-python",
   "name": "python",
   "nbconvert_exporter": "python",
   "pygments_lexer": "ipython3",
   "version": "3.13.7"
  }
 },
 "nbformat": 4,
 "nbformat_minor": 4
}
